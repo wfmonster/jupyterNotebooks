{
 "cells": [
  {
   "cell_type": "code",
   "execution_count": 1,
   "metadata": {},
   "outputs": [],
   "source": [
    "%matplotlib inline\n",
    "import sympy as sympy           # provides symbolic computation (solving algebra problems)\n",
    "import numpy as np              # provides linear algebra computations\n",
    "import matplotlib.pyplot as plt # graph functions and draw figures\n",
    "import seaborn as sbn           # prettier matplotlib figures\n",
    "from scipy import *             # scientific python "
   ]
  },
  {
   "cell_type": "code",
   "execution_count": 4,
   "metadata": {},
   "outputs": [
    {
     "name": "stdout",
     "output_type": "stream",
     "text": [
      "0.5\n"
     ]
    }
   ],
   "source": [
    "# Creating arrays, scalars and matrices in Python \n",
    "x = 0.5 # creating a scalar\n",
    "print x"
   ]
  },
  {
   "cell_type": "code",
   "execution_count": 8,
   "metadata": {},
   "outputs": [
    {
     "name": "stdout",
     "output_type": "stream",
     "text": [
      "[1 2 3]\n",
      "Has shape: (3,)\n",
      "<type 'numpy.ndarray'>\n"
     ]
    }
   ],
   "source": [
    "# Vectors and lists, numpy (np) is the core library for linear algebra.\n",
    "# lists in python are NOT arrays. \n",
    "x_vector = np.array([1,2,3]) # creating a vector\n",
    "print x_vector\n",
    "print \"Has shape:\", x_vector.shape\n",
    "print type(x_vector)"
   ]
  },
  {
   "cell_type": "code",
   "execution_count": 12,
   "metadata": {},
   "outputs": [
    {
     "name": "stdout",
     "output_type": "stream",
     "text": [
      "[(5, 1), (6, 2)]\n",
      "[[5 1]\n",
      " [6 2]]\n",
      "<type 'numpy.ndarray'>\n",
      "A has shape:  (2, 2)\n"
     ]
    }
   ],
   "source": [
    "# Matrices\n",
    "c = [1, 2]\n",
    "z = [5, 6]\n",
    "b = zip(z, c)\n",
    "print b  # this is still a list not a matrix yet.\n",
    "\n",
    "# Convert list to an Matrix\n",
    "A = np.array(b)\n",
    "print A\n",
    "print type(A)\n",
    "print \"A has shape: \", A.shape"
   ]
  },
  {
   "cell_type": "code",
   "execution_count": 14,
   "metadata": {},
   "outputs": [
    {
     "name": "stdout",
     "output_type": "stream",
     "text": [
      "[[8 4]\n",
      " [9 5]]\n",
      "[[ 2 -2]\n",
      " [ 3 -1]]\n"
     ]
    }
   ],
   "source": [
    "# Matrix Addition and Subtraction\n",
    "# adding/subtracting a scalar to each element in the matrix\n",
    "add = A + 3 \n",
    "sub = A - 3 \n",
    "print add\n",
    "print sub"
   ]
  },
  {
   "cell_type": "code",
   "execution_count": 19,
   "metadata": {},
   "outputs": [
    {
     "name": "stdout",
     "output_type": "stream",
     "text": [
      "[[5 1]\n",
      " [6 2]]  +  [[-0.3833986  -0.18918062]\n",
      " [-0.88850113 -0.00955464]] =\n"
     ]
    },
    {
     "data": {
      "text/plain": [
       "array([[ 4.6166014 ,  0.81081938],\n",
       "       [ 5.11149887,  1.99044536]])"
      ]
     },
     "execution_count": 19,
     "metadata": {},
     "output_type": "execute_result"
    }
   ],
   "source": [
    "# Adding or subtracting two Matrices\n",
    "B = np.random.randn(2, 2) # create a matrix with random numbers\n",
    "print A, \" + \",  B, \"=\"\n",
    "result = A + B\n",
    "result"
   ]
  },
  {
   "cell_type": "code",
   "execution_count": 24,
   "metadata": {},
   "outputs": [
    {
     "name": "stdout",
     "output_type": "stream",
     "text": [
      "[[0 1]\n",
      " [2 3]\n",
      " [4 5]]\n",
      "[[ 0.94047198 -1.47470871]\n",
      " [ 0.94544728 -0.51268769]]\n",
      "(3, 2)\n",
      "(2, 2)\n",
      "[[ 0.94544728 -0.51268769]\n",
      " [ 4.71728581 -4.4874805 ]\n",
      " [ 8.48912433 -8.4622733 ]]\n",
      "[[ 0.94544728 -0.51268769]\n",
      " [ 4.71728581 -4.4874805 ]\n",
      " [ 8.48912433 -8.4622733 ]]\n"
     ]
    }
   ],
   "source": [
    "# Matrix Multiplication\n",
    "mult = A * 3 # mutliply by a scalar\n",
    "mult\n",
    "\n",
    "# Multiply two matricies\n",
    "A = np.arange(6).reshape((3,2))\n",
    "C = np.random.randn(2,2)   \n",
    "print A\n",
    "print C\n",
    "print A.shape\n",
    "print C.shape\n",
    "\n",
    "# We can use the numpy dot operator to perform these multiplications. \n",
    "# two ways to do it. \n",
    "print A.dot(C)\n",
    "print np.dot(A,C)\n",
    "\n",
    "# we can't multiply C * A because 2*2 and 3*2 the # of columns in C \n",
    "# don't match the number of rows in A. Results in a valueError"
   ]
  },
  {
   "cell_type": "code",
   "execution_count": 32,
   "metadata": {},
   "outputs": [
    {
     "name": "stdout",
     "output_type": "stream",
     "text": [
      "[[   1 2104]\n",
      " [   1 1416]\n",
      " [   1 1534]\n",
      " [   1  852]]\n",
      "[ 486.   314.   343.5  173. ]\n"
     ]
    }
   ],
   "source": [
    "# Example Application of matrix multiplication to predict housing prices\n",
    "# Hypothesis : h(x) = -40 +0.25x\n",
    "a = (1, 1, 1, 1)            \n",
    "b = (2104, 1416, 1534, 852) # housing prices\n",
    "A = np.array(zip(a, b))\n",
    "print A\n",
    "\n",
    "coeffs = np.array([-40, 0.25])\n",
    "prediction = np.dot(A, coeffs)\n",
    "print prediction\n",
    "\n"
   ]
  },
  {
   "cell_type": "code",
   "execution_count": null,
   "metadata": {
    "collapsed": true
   },
   "outputs": [],
   "source": []
  }
 ],
 "metadata": {
  "kernelspec": {
   "display_name": "Python 2",
   "language": "python",
   "name": "python2"
  },
  "language_info": {
   "codemirror_mode": {
    "name": "ipython",
    "version": 2
   },
   "file_extension": ".py",
   "mimetype": "text/x-python",
   "name": "python",
   "nbconvert_exporter": "python",
   "pygments_lexer": "ipython2",
   "version": "2.7.13"
  }
 },
 "nbformat": 4,
 "nbformat_minor": 2
}
