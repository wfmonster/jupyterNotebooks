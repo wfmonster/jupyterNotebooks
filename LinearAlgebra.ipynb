{
 "cells": [
  {
   "cell_type": "code",
   "execution_count": 5,
   "metadata": {
    "collapsed": true
   },
   "outputs": [],
   "source": [
    "# Core Scientific Stack in python\n",
    "%matplotlib inline\n",
    "import sympy as sympy           # provides symbolic computation (solving algebra problems)\n",
    "import numpy as np              # provides linear algebra computations\n",
    "import matplotlib.pyplot as plt # graph functions and draw figures\n",
    "import seaborn as sbn           # prettier matplotlib figures\n",
    "from scipy import *             # scientific python "
   ]
  },
  {
   "cell_type": "markdown",
   "metadata": {},
   "source": [
    "#### Creating arrays, scalars and matrices in Python "
   ]
  },
  {
   "cell_type": "code",
   "execution_count": 6,
   "metadata": {},
   "outputs": [
    {
     "name": "stdout",
     "output_type": "stream",
     "text": [
      "0.5\n"
     ]
    }
   ],
   "source": [
    "x = 0.5 # creating a scalar\n",
    "print x"
   ]
  },
  {
   "cell_type": "code",
   "execution_count": 7,
   "metadata": {},
   "outputs": [
    {
     "name": "stdout",
     "output_type": "stream",
     "text": [
      "[1 2 3]\n",
      "Has shape: (3,)\n",
      "<type 'numpy.ndarray'>\n"
     ]
    }
   ],
   "source": [
    "# Vectors and lists, numpy (np) is the core library for linear algebra.\n",
    "# lists in python are NOT arrays. \n",
    "x_vector = np.array([1,2,3]) # creating a vector\n",
    "print x_vector\n",
    "print \"Has shape:\", x_vector.shape\n",
    "print type(x_vector)"
   ]
  },
  {
   "cell_type": "code",
   "execution_count": 8,
   "metadata": {},
   "outputs": [
    {
     "name": "stdout",
     "output_type": "stream",
     "text": [
      "[(5, 1), (6, 2)]\n",
      "[[5 1]\n",
      " [6 2]]\n",
      "<type 'numpy.ndarray'>\n",
      "A has shape:  (2, 2)\n"
     ]
    }
   ],
   "source": [
    "# Matrices\n",
    "c = [1, 2]\n",
    "z = [5, 6]\n",
    "b = zip(z, c)\n",
    "print b  # this is still a list not a matrix yet.\n",
    "\n",
    "# Convert list to an Matrix\n",
    "A = np.array(b)\n",
    "print A\n",
    "print type(A)\n",
    "print \"A has shape: \", A.shape"
   ]
  },
  {
   "cell_type": "markdown",
   "metadata": {},
   "source": [
    "#### Matrix Addition and Subtraction"
   ]
  },
  {
   "cell_type": "code",
   "execution_count": 9,
   "metadata": {},
   "outputs": [
    {
     "name": "stdout",
     "output_type": "stream",
     "text": [
      "[[8 4]\n",
      " [9 5]]\n",
      "[[ 2 -2]\n",
      " [ 3 -1]]\n"
     ]
    }
   ],
   "source": [
    "# adding/subtracting a scalar to each element in the matrix\n",
    "add = A + 3 \n",
    "sub = A - 3 \n",
    "print add\n",
    "print sub"
   ]
  },
  {
   "cell_type": "code",
   "execution_count": 10,
   "metadata": {},
   "outputs": [
    {
     "name": "stdout",
     "output_type": "stream",
     "text": [
      "[[5 1]\n",
      " [6 2]]  +  [[ 1.11813807  0.26580438]\n",
      " [-0.13753815  0.06348561]] =\n"
     ]
    },
    {
     "data": {
      "text/plain": [
       "array([[ 6.11813807,  1.26580438],\n",
       "       [ 5.86246185,  2.06348561]])"
      ]
     },
     "execution_count": 10,
     "metadata": {},
     "output_type": "execute_result"
    }
   ],
   "source": [
    "# Adding or subtracting two Matrices\n",
    "B = np.random.randn(2, 2) # create a matrix with random numbers\n",
    "print A, \" + \",  B, \"=\"\n",
    "result = A + B\n",
    "result"
   ]
  },
  {
   "cell_type": "markdown",
   "metadata": {},
   "source": [
    "#### Matrix Multiplication"
   ]
  },
  {
   "cell_type": "code",
   "execution_count": 11,
   "metadata": {},
   "outputs": [
    {
     "name": "stdout",
     "output_type": "stream",
     "text": [
      "[[0 1]\n",
      " [2 3]\n",
      " [4 5]]\n",
      "[[-0.08030093  0.04861546]\n",
      " [ 0.12265275 -0.2581282 ]]\n",
      "(3, 2)\n",
      "(2, 2)\n",
      "[[ 0.12265275 -0.2581282 ]\n",
      " [ 0.20735638 -0.67715368]\n",
      " [ 0.29206001 -1.09617916]]\n",
      "[[ 0.12265275 -0.2581282 ]\n",
      " [ 0.20735638 -0.67715368]\n",
      " [ 0.29206001 -1.09617916]]\n"
     ]
    }
   ],
   "source": [
    "mult = A * 3 # mutliply by a scalar\n",
    "mult\n",
    "\n",
    "# Multiply two matricies\n",
    "A = np.arange(6).reshape((3,2))\n",
    "C = np.random.randn(2,2)   \n",
    "print A\n",
    "print C\n",
    "print A.shape\n",
    "print C.shape\n",
    "\n",
    "# We can use the numpy dot operator to perform these multiplications. \n",
    "# two ways to do it. \n",
    "print A.dot(C)\n",
    "print np.dot(A,C)\n",
    "\n",
    "# we can't multiply C * A because 2*2 and 3*2 the # of columns in C \n",
    "# don't match the number of rows in A. Results in a valueError"
   ]
  },
  {
   "cell_type": "markdown",
   "metadata": {},
   "source": [
    "#### Example Application"
   ]
  },
  {
   "cell_type": "code",
   "execution_count": 12,
   "metadata": {},
   "outputs": [
    {
     "name": "stdout",
     "output_type": "stream",
     "text": [
      "[[   1 2104]\n",
      " [   1 1416]\n",
      " [   1 1534]\n",
      " [   1  852]]\n",
      "[ 486.   314.   343.5  173. ]\n"
     ]
    }
   ],
   "source": [
    "# Using matrix multiplication to predict housing prices\n",
    "# Hypothesis : h(x) = -40 +0.25x\n",
    "a = (1, 1, 1, 1)            \n",
    "b = (2104, 1416, 1534, 852) # housing prices\n",
    "A = np.array(zip(a, b))\n",
    "print A\n",
    "\n",
    "coeffs = np.array([-40, 0.25])\n",
    "prediction = np.dot(A, coeffs)\n",
    "print prediction\n",
    "\n"
   ]
  },
  {
   "cell_type": "markdown",
   "metadata": {
    "collapsed": true
   },
   "source": [
    "#### Computing the Inverse of a matrix"
   ]
  },
  {
   "cell_type": "code",
   "execution_count": 13,
   "metadata": {},
   "outputs": [
    {
     "name": "stdout",
     "output_type": "stream",
     "text": [
      "[[-17.48230165  -3.29258925]\n",
      " [ -8.30692792  -5.43855776]]\n"
     ]
    }
   ],
   "source": [
    "# in order to compute the inverse we must hava square matrix\n",
    "# where # rows = # cols. \n",
    "# Here C is a 2*2 randomly genrated matrix\n",
    "C_inverse = np.linalg.inv(C)\n",
    "print C_inverse"
   ]
  },
  {
   "cell_type": "code",
   "execution_count": 15,
   "metadata": {},
   "outputs": [
    {
     "name": "stdout",
     "output_type": "stream",
     "text": [
      "[[  1.00000000e+00   5.55111512e-17]\n",
      " [  0.00000000e+00   1.00000000e+00]]\n",
      "Is identical to:\n",
      "[[  1.00000000e+00   2.22044605e-16]\n",
      " [ -1.11022302e-16   1.00000000e+00]]\n"
     ]
    }
   ],
   "source": [
    "# check that C * C ^-1 = I\n",
    "print C.dot(C_inverse)\n",
    "print \"Is identical to:\"\n",
    "print C_inverse.dot(C)"
   ]
  },
  {
   "cell_type": "markdown",
   "metadata": {},
   "source": [
    "#### Transposing a Matrix"
   ]
  },
  {
   "cell_type": "code",
   "execution_count": 17,
   "metadata": {},
   "outputs": [
    {
     "name": "stdout",
     "output_type": "stream",
     "text": [
      "A is\n",
      "[[0 1]\n",
      " [2 3]\n",
      " [4 5]]\n",
      "The transpose of A is\n",
      "[[0 2 4]\n",
      " [1 3 5]]\n"
     ]
    }
   ],
   "source": [
    "A = np.arange(6).reshape((3, 2))\n",
    "B = np.arange(8).reshape((2, 4))\n",
    "\n",
    "print \"A is\"\n",
    "print A\n",
    "\n",
    "print \"The transpose of A is\"\n",
    "print A.T"
   ]
  },
  {
   "cell_type": "code",
   "execution_count": 19,
   "metadata": {},
   "outputs": [
    {
     "name": "stdout",
     "output_type": "stream",
     "text": [
      "[[ 4 12 20]\n",
      " [ 5 17 29]\n",
      " [ 6 22 38]\n",
      " [ 7 27 47]]\n",
      "Is Identical to:\n",
      "[[ 4 12 20]\n",
      " [ 5 17 29]\n",
      " [ 6 22 38]\n",
      " [ 7 27 47]]\n"
     ]
    }
   ],
   "source": [
    "print B.T.dot(A.T)    # A'*B'\n",
    "print \"Is Identical to:\"\n",
    "print (A.dot(B).T)    # (A*B)'"
   ]
  },
  {
   "cell_type": "code",
   "execution_count": 22,
   "metadata": {},
   "outputs": [
    {
     "name": "stdout",
     "output_type": "stream",
     "text": [
      "[[0 1]\n",
      " [2 3]\n",
      " [4 5]]\n"
     ]
    },
    {
     "data": {
      "text/plain": [
       "5"
      ]
     },
     "execution_count": 22,
     "metadata": {},
     "output_type": "execute_result"
    }
   ],
   "source": [
    "# Slicing\n",
    "print A\n",
    "A[:,0]\n",
    "\n",
    "# grabbing a single element\n",
    "A[2,1]\n"
   ]
  },
  {
   "cell_type": "code",
   "execution_count": 26,
   "metadata": {},
   "outputs": [
    {
     "name": "stdout",
     "output_type": "stream",
     "text": [
      "[[ 0  1]\n",
      " [ 2  3]\n",
      " [ 4  5]\n",
      " [ 6  7]\n",
      " [ 8  9]\n",
      " [10 11]\n",
      " [12 13]\n",
      " [14 15]\n",
      " [16 17]\n",
      " [18 19]\n",
      " [20 21]\n",
      " [22 23]]\n",
      "(12, 2)\n",
      "[0 1]\n",
      "[2 3]\n",
      "[4 5]\n",
      "[6 7]\n",
      "[8 9]\n",
      "[10 11]\n",
      "[12 13]\n",
      "[14 15]\n",
      "[16 17]\n",
      "[18 19]\n",
      "[20 21]\n",
      "[22 23]\n"
     ]
    }
   ],
   "source": [
    "A = np.arange(24).reshape((12,2))\n",
    "print A\n",
    "print A.shape\n",
    "\n",
    "for rows in A:\n",
    "    print rows"
   ]
  },
  {
   "cell_type": "code",
   "execution_count": 27,
   "metadata": {},
   "outputs": [
    {
     "name": "stdout",
     "output_type": "stream",
     "text": [
      "[ 0  2  4  6  8 10 12 14 16 18 20 22]\n",
      "[ 1  3  5  7  9 11 13 15 17 19 21 23]\n"
     ]
    }
   ],
   "source": [
    "for cols in A.T:\n",
    "    print cols"
   ]
  },
  {
   "cell_type": "code",
   "execution_count": null,
   "metadata": {
    "collapsed": true
   },
   "outputs": [],
   "source": []
  }
 ],
 "metadata": {
  "kernelspec": {
   "display_name": "Python 2",
   "language": "python",
   "name": "python2"
  },
  "language_info": {
   "codemirror_mode": {
    "name": "ipython",
    "version": 2
   },
   "file_extension": ".py",
   "mimetype": "text/x-python",
   "name": "python",
   "nbconvert_exporter": "python",
   "pygments_lexer": "ipython2",
   "version": "2.7.13"
  }
 },
 "nbformat": 4,
 "nbformat_minor": 2
}
